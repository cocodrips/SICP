{
 "cells": [
  {
   "cell_type": "code",
   "execution_count": 8,
   "metadata": {
    "collapsed": false
   },
   "outputs": [
    {
     "name": "stdout",
     "output_type": "stream",
     "text": [
      "4.5555322708\n",
      "[9.965784284662087, 3.004472209841214, 6.279195757507157, 3.759850702401539, 5.215843784925895, 4.182207192401397, 4.8277650983445906, 4.387593384662677, 4.671250085763899, 4.481403616895052, 4.6053657460929, 4.5230849678718865, 4.577114682047341, 4.541382480151454, 4.564903245230833, 4.549372679303342, 4.559606491913287, 4.552853875788271, 4.557305529748263, 4.554369064436181, 4.556305311532999, 4.555028263573554, 4.555870396702851, 4.555315001192079, 4.5556812635433275, 4.555439715736846, 4.555599009998291, 4.555493957531389, 4.555563237292884, 4.555517548417651, 4.555547679306398, 4.555527808516254, 4.555540912917957, 4.555532270803653]\n"
     ]
    }
   ],
   "source": [
    "from matplotlib import pyplot as plt\n",
    "import numpy as np\n",
    "import math\n",
    "\n",
    "tolerance = 0.00001\n",
    "\n",
    "normal = []\n",
    "def close_enough(v1, v2):\n",
    "    return abs(v1-v2) < tolerance\n",
    "\n",
    "def next_normal(f, x):\n",
    "    return f(x)\n",
    "    \n",
    "def try_normal(f, guess):\n",
    "    _next = next_normal(f, guess)\n",
    "    normal.append(_next)\n",
    "    if close_enough(guess, _next):\n",
    "        return _next\n",
    "    return try_normal(f, _next)\n",
    "\n",
    "def _f(x):\n",
    "    return math.log(1000)/math.log(x)\n",
    "\n",
    "print try_normal(_f, 2)\n",
    "print normal"
   ]
  },
  {
   "cell_type": "code",
   "execution_count": null,
   "metadata": {
    "collapsed": true
   },
   "outputs": [],
   "source": []
  }
 ],
 "metadata": {
  "kernelspec": {
   "display_name": "Python 2",
   "language": "python",
   "name": "python2"
  },
  "language_info": {
   "codemirror_mode": {
    "name": "ipython",
    "version": 2
   },
   "file_extension": ".py",
   "mimetype": "text/x-python",
   "name": "python",
   "nbconvert_exporter": "python",
   "pygments_lexer": "ipython2",
   "version": "2.7.5"
  }
 },
 "nbformat": 4,
 "nbformat_minor": 0
}

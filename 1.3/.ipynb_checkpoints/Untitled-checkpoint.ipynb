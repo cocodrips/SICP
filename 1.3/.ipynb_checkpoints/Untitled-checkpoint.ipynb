{
 "cells": [
  {
   "cell_type": "code",
   "execution_count": 6,
   "metadata": {
    "collapsed": false
   },
   "outputs": [
    {
     "name": "stdout",
     "output_type": "stream",
     "text": [
      "1.61803278689\n",
      "[2.0, 1.5, 1.6666666666666665, 1.6, 1.625, 1.6153846153846154, 1.619047619047619, 1.6176470588235294, 1.6181818181818182, 1.6179775280898876, 1.6180555555555556, 1.6180257510729614, 1.6180371352785146, 1.6180327868852458]\n"
     ]
    }
   ],
   "source": [
    "from matplotlib import pyplot as plt\n",
    "import numpy as np\n",
    "import math\n",
    "\n",
    "tolerance = 0.00001\n",
    "\n",
    "normal = []\n",
    "def close_enough(v1, v2):\n",
    "    return abs(v1-v2) < tolerance\n",
    "\n",
    "def next_normal(f, x):\n",
    "    return f(x)\n",
    "    \n",
    "def try_normal(f, guess):\n",
    "    _next = next_normal(f, guess)\n",
    "    normal.append(_next)\n",
    "    if close_enough(guess, _next):\n",
    "        return _next\n",
    "    return try_normal(f, _next)\n",
    "\n",
    "def _f(x):\n",
    "    return math.log(1000)/math.log(x)\n",
    "\n",
    "print try_normal(_f, 1)\n",
    "print normal"
   ]
  },
  {
   "cell_type": "code",
   "execution_count": null,
   "metadata": {
    "collapsed": true
   },
   "outputs": [],
   "source": []
  }
 ],
 "metadata": {
  "kernelspec": {
   "display_name": "Python 2",
   "language": "python",
   "name": "python2"
  },
  "language_info": {
   "codemirror_mode": {
    "name": "ipython",
    "version": 2
   },
   "file_extension": ".py",
   "mimetype": "text/x-python",
   "name": "python",
   "nbconvert_exporter": "python",
   "pygments_lexer": "ipython2",
   "version": "2.7.5"
  }
 },
 "nbformat": 4,
 "nbformat_minor": 0
}

{
 "cells": [
  {
   "cell_type": "markdown",
   "metadata": {},
   "source": [
    "# 3.1.3 代⼊を導⼊することのコスト\n"
   ]
  },
  {
   "cell_type": "code",
   "execution_count": 1,
   "metadata": {
    "collapsed": false
   },
   "outputs": [
    {
     "name": "stdout",
     "output_type": "stream",
     "text": [
      " make-simplified-withdraw\r\n"
     ]
    }
   ],
   "source": [
    "; setを使ったwithdraw(簡易版)\n",
    "(define (make-simplified-withdraw balance)\n",
    "  (lambda (amount)\n",
    "    (set! balance (- balance amount))\n",
    "    balance))"
   ]
  },
  {
   "cell_type": "code",
   "execution_count": 2,
   "metadata": {
    "collapsed": false
   },
   "outputs": [
    {
     "name": "stdout",
     "output_type": "stream",
     "text": [
      " W\r\n"
     ]
    }
   ],
   "source": [
    "(define W (make-simplified-withdraw 25))"
   ]
  },
  {
   "cell_type": "code",
   "execution_count": 3,
   "metadata": {
    "collapsed": false
   },
   "outputs": [
    {
     "name": "stdout",
     "output_type": "stream",
     "text": [
      " 5\r\n",
      " -5\r\n"
     ]
    }
   ],
   "source": [
    "(W 20)\n",
    "(W 10)"
   ]
  },
  {
   "cell_type": "markdown",
   "metadata": {},
   "source": [
    "set! を使わない次の make-decrementer ⼿続き\n",
    "\n",
    "続けて呼び出しても、make-simplified-withdraw のような\n",
    "集積効果はない"
   ]
  },
  {
   "cell_type": "code",
   "execution_count": 4,
   "metadata": {
    "collapsed": false
   },
   "outputs": [
    {
     "name": "stdout",
     "output_type": "stream",
     "text": [
      " make-decrementer\r\n"
     ]
    }
   ],
   "source": [
    "(define (make-decrementer balance)\n",
    "  (lambda (amount)\n",
    "    (- balance amount)))"
   ]
  },
  {
   "cell_type": "code",
   "execution_count": 5,
   "metadata": {
    "collapsed": false
   },
   "outputs": [
    {
     "name": "stdout",
     "output_type": "stream",
     "text": [
      " D\r\n"
     ]
    }
   ],
   "source": [
    "(define D (make-decrementer 25))"
   ]
  },
  {
   "cell_type": "code",
   "execution_count": 6,
   "metadata": {
    "collapsed": false
   },
   "outputs": [
    {
     "name": "stdout",
     "output_type": "stream",
     "text": [
      " 5\r\n",
      " 15\r\n"
     ]
    }
   ],
   "source": [
    "(D 20)\n",
    "(D 10)"
   ]
  },
  {
   "cell_type": "markdown",
   "metadata": {},
   "source": [
    "## 同⼀性と変化"
   ]
  },
  {
   "cell_type": "code",
   "execution_count": 7,
   "metadata": {
    "collapsed": false
   },
   "outputs": [
    {
     "name": "stdout",
     "output_type": "stream",
     "text": [
      " D1\r\n"
     ]
    }
   ],
   "source": [
    "(define D1 (make-decrementer 25))"
   ]
  },
  {
   "cell_type": "code",
   "execution_count": 8,
   "metadata": {
    "collapsed": false
   },
   "outputs": [
    {
     "name": "stdout",
     "output_type": "stream",
     "text": [
      " D2\r\n"
     ]
    }
   ],
   "source": [
    "(define D2 (make-decrementer 25))"
   ]
  },
  {
   "cell_type": "code",
   "execution_count": 9,
   "metadata": {
    "collapsed": false
   },
   "outputs": [
    {
     "name": "stdout",
     "output_type": "stream",
     "text": [
      " 5\r\n",
      " 5\r\n",
      " 5\r\n"
     ]
    }
   ],
   "source": [
    "(D1 20)\n",
    "(D1 20)\n",
    "(D2 20)"
   ]
  },
  {
   "cell_type": "markdown",
   "metadata": {},
   "source": [
    "上の２つは同じだが、下の２つは異なる"
   ]
  },
  {
   "cell_type": "code",
   "execution_count": 10,
   "metadata": {
    "collapsed": false
   },
   "outputs": [
    {
     "name": "stdout",
     "output_type": "stream",
     "text": [
      " W1\r\n"
     ]
    }
   ],
   "source": [
    "(define W1 (make-simplified-withdraw 25))"
   ]
  },
  {
   "cell_type": "code",
   "execution_count": 11,
   "metadata": {
    "collapsed": false
   },
   "outputs": [
    {
     "name": "stdout",
     "output_type": "stream",
     "text": [
      " W2\r\n"
     ]
    }
   ],
   "source": [
    "(define W2 (make-simplified-withdraw 25))"
   ]
  },
  {
   "cell_type": "code",
   "execution_count": 12,
   "metadata": {
    "collapsed": false
   },
   "outputs": [
    {
     "name": "stdout",
     "output_type": "stream",
     "text": [
      " 5\r\n",
      " -15\r\n",
      " 5\r\n"
     ]
    }
   ],
   "source": [
    "(W1 20)\n",
    "(W1 20)\n",
    "(W2 20)"
   ]
  },
  {
   "cell_type": "markdown",
   "metadata": {},
   "source": [
    "式の値を変化させることなく、式の中で “等しいものは等しいものによって置き換えることができる  \n",
    "という概念をサポートしている⾔語は、**参照透明(referentially transparent) である**と⾔わる。  \n",
    "set! を含めたときに、参照透明性はられる。  "
   ]
  },
  {
   "cell_type": "markdown",
   "metadata": {},
   "source": [
    "## 命令型プログラミングの落とし⽳\n",
    "\n",
    "関数型プログラミングとは対照的に、  \n",
    "代⼊を多⽤するプログラミングは**命令型プログラミング **という。"
   ]
  },
  {
   "cell_type": "markdown",
   "metadata": {},
   "source": [
    "### 階乗を例に"
   ]
  },
  {
   "cell_type": "code",
   "execution_count": 13,
   "metadata": {
    "collapsed": false
   },
   "outputs": [
    {
     "name": "stdout",
     "output_type": "stream",
     "text": [
      " factorial\r\n",
      " 6\r\n"
     ]
    }
   ],
   "source": [
    "; 例: 関数型的に\n",
    "(define (factorial n)\n",
    "  (define (iter product counter)\n",
    "    (if (> counter n)\n",
    "        product\n",
    "        (iter (* counter product) (+ counter 1))))\n",
    "  (iter 1 1))\n",
    "(factorial 3)"
   ]
  },
  {
   "cell_type": "code",
   "execution_count": 14,
   "metadata": {
    "collapsed": false
   },
   "outputs": [
    {
     "name": "stdout",
     "output_type": "stream",
     "text": [
      " factorial\r\n",
      " 6\r\n"
     ]
    }
   ],
   "source": [
    "; 命令形スタイルでの階乗\n",
    "(define (factorial n)\n",
    "  (let \n",
    "    (\n",
    "        (product 1)\n",
    "        (counter 1)\n",
    "    )\n",
    "    (define (iter)\n",
    "      (if (> counter n)\n",
    "          product\n",
    "          (begin \n",
    "           (set! product (* counter product))\n",
    "           (set! counter (+ counter 1))\n",
    "           (iter))))\n",
    "    (iter)))\n",
    "(factorial 3)"
   ]
  },
  {
   "cell_type": "markdown",
   "metadata": {},
   "source": [
    "これは動くけれど\n",
    "\n",
    "```\n",
    "(set! counter (+ counter 1))\n",
    "(set! product (* counter product)\n",
    "```\n",
    "の順番を間違えたら動かなくなる \n",
    "\n",
    "当たり前・・・と思うけれど、この問題は、関数型プログラミングでは最初から起こらない。"
   ]
  },
  {
   "cell_type": "markdown",
   "metadata": {},
   "source": [
    "## Ex 3.7\n",
    "\n",
    ": 練習問題 3.3で述べた、パスワード機能を追加したmake-account で作った銀⾏⼝座オブジェクトについて考える。  \n",
    "私たちの銀⾏システムでは、共同⼝座を作る能⼒が必要だとする。\n",
    "これを実現する⼿続き make-joint を定義せよ。\n",
    "\n",
    "make-joint は三つの引数を取る。\n",
    "\n",
    "- ⼀つ⽬はパスワード保護された⼝座である。\n",
    "- ⼆つ⽬の引数は⼝座を定義したときのパスワードと⼀致している必要があり、そうでなければ make-joint 演算を進めることはできな\n",
    "い。\n",
    "- 三番⽬の引数は新しいパスワードである。make-joint は、元の⼝座に新しいパスワードでもアクセスできるようにする。例えば、peter-acc が open-sesame というパスワードを持つ銀⾏⼝座だとすると、\n",
    "```\n",
    "(define paul-acc\n",
    "    (make-joint peter-acc 'open-sesame 'rosebud))\n",
    "```\n",
    "このようにすることで、paul-acc という名前と rosebud というパスワードによって peter-acc に対する取引ができるようにする。"
   ]
  },
  {
   "cell_type": "markdown",
   "metadata": {},
   "source": [
    "### 3.3での実装からコピー"
   ]
  },
  {
   "cell_type": "code",
   "execution_count": 15,
   "metadata": {
    "collapsed": false
   },
   "outputs": [
    {
     "name": "stdout",
     "output_type": "stream",
     "text": [
      " make-account\r\n"
     ]
    }
   ],
   "source": [
    "; 3.3より\n",
    "(define (make-account password balance)\n",
    "  (define correct-password (list password))\n",
    "  ;; 引き出し\n",
    "  (define (withdraw amount)\n",
    "    (if (>= balance amount)\n",
    "      (begin \n",
    "        (set! balance (- balance amount))\n",
    "        balance)\n",
    "    \"Insufficient funds\"))\n",
    "\n",
    "  ;; 預金\n",
    "  (define (deposit amount)\n",
    "    (set! balance (+ balance amount))　balance)\n",
    "  \n",
    "  ;; パスワード設定\n",
    "  (define (add-password new-password)\n",
    "    (begin\n",
    "        (set! correct-password (cons new-password correct-password))\n",
    "    dispatch))\n",
    "  \n",
    "  ;; password check\n",
    "  (define (is-correct-password? password)\n",
    "    (define (itr corrects password)\n",
    "      (cond\n",
    "       ((null? corrects) #f)\n",
    "       ((eq? (car corrects) password) #t)\n",
    "       (else (itr (cdr corrects) password))))\n",
    "    (itr correct-password password)\n",
    "  )\n",
    "  \n",
    "  ;;\n",
    "  (define (dispatch password m)\n",
    "    (if \n",
    "      (is-correct-password? password)\n",
    "      (cond \n",
    "        ((eq? m 'withdraw) withdraw)\n",
    "        ((eq? m 'deposit) deposit)\n",
    "        ((eq? m 'new-password) add-password)\n",
    "        (else (error \"Unknown request: MAKE-ACCOUNT\" m)))\n",
    "      (lambda (args) \"Incorrect password\"))\n",
    "    )\n",
    "dispatch)"
   ]
  },
  {
   "cell_type": "code",
   "execution_count": 16,
   "metadata": {
    "collapsed": false
   },
   "outputs": [
    {
     "name": "stdout",
     "output_type": "stream",
     "text": [
      " make-joint\r\n"
     ]
    }
   ],
   "source": [
    ";; 共有口座\n",
    "(define (make-joint account password new-password)\n",
    "  ((account password 'new-password) new-password))\n"
   ]
  },
  {
   "cell_type": "code",
   "execution_count": 17,
   "metadata": {
    "collapsed": false
   },
   "outputs": [
    {
     "name": "stdout",
     "output_type": "stream",
     "text": [
      " account\r\n"
     ]
    }
   ],
   "source": [
    "; 口座1\n",
    "(define account (make-account 'nyan 0))\n"
   ]
  },
  {
   "cell_type": "code",
   "execution_count": 18,
   "metadata": {
    "collapsed": false
   },
   "outputs": [
    {
     "name": "stdout",
     "output_type": "stream",
     "text": [
      " new-account\r\n"
     ]
    }
   ],
   "source": [
    "; 口座2\n",
    "(define new-account (make-joint account 'nyan 'nyanko))"
   ]
  },
  {
   "cell_type": "code",
   "execution_count": 19,
   "metadata": {
    "collapsed": false
   },
   "outputs": [
    {
     "name": "stdout",
     "output_type": "stream",
     "text": [
      " \"Insufficient funds\"\r\n",
      " 10\r\n",
      " 0\r\n",
      " 10\r\n",
      " 20\r\n"
     ]
    }
   ],
   "source": [
    "((account 'nyan 'withdraw) 10)\n",
    "((account 'nyan 'deposit) 10)\n",
    "((account 'nyan 'withdraw) 10)\n",
    "((new-account 'nyan 'deposit) 10)\n",
    "((new-account 'nyanko 'deposit) 10)"
   ]
  },
  {
   "cell_type": "code",
   "execution_count": 20,
   "metadata": {
    "collapsed": false
   },
   "outputs": [
    {
     "name": "stdout",
     "output_type": "stream",
     "text": [
      " 30\r\n",
      " 20\r\n",
      " 10\r\n"
     ]
    }
   ],
   "source": [
    "((new-account 'nyan 'deposit) 10)\n",
    "((new-account 'nyanko 'withdraw) 10)\n",
    "((account 'nyanko 'withdraw) 10)"
   ]
  },
  {
   "cell_type": "markdown",
   "metadata": {},
   "source": [
    "だめだ、accountの方でもnew-accountのパスワード使えるようになっちゃった。\n",
    "\n",
    "そういうことじゃないっぽい_(⌒(_´-ω-`)_"
   ]
  },
  {
   "cell_type": "markdown",
   "metadata": {},
   "source": [
    "### パスワード部分だっけwrapしてみる"
   ]
  },
  {
   "cell_type": "code",
   "execution_count": 21,
   "metadata": {
    "collapsed": false
   },
   "outputs": [
    {
     "name": "stdout",
     "output_type": "stream",
     "text": [
      " make-joint\r\n"
     ]
    }
   ],
   "source": [
    "(define (make-joint account password new-password)\n",
    "  (define (wrap pass arg)\n",
    "    (if \n",
    "     (eq? pass new-password)\n",
    "     (account password arg)\n",
    "     (lambda (_) \"invalid password\")\n",
    "     ))\n",
    "wrap)"
   ]
  },
  {
   "cell_type": "code",
   "execution_count": 22,
   "metadata": {
    "collapsed": false
   },
   "outputs": [
    {
     "name": "stdout",
     "output_type": "stream",
     "text": [
      " account\r\n"
     ]
    }
   ],
   "source": [
    "(define account (make-account 'nyan 0))"
   ]
  },
  {
   "cell_type": "code",
   "execution_count": 23,
   "metadata": {
    "collapsed": false
   },
   "outputs": [
    {
     "name": "stdout",
     "output_type": "stream",
     "text": [
      " wrap-account\r\n"
     ]
    }
   ],
   "source": [
    "(define wrap-account (make-joint account 'nyan 'nyanko))"
   ]
  },
  {
   "cell_type": "code",
   "execution_count": 24,
   "metadata": {
    "collapsed": false
   },
   "outputs": [
    {
     "name": "stdout",
     "output_type": "stream",
     "text": [
      " \"invalid password\"\r\n",
      " 10\r\n",
      " 0\r\n"
     ]
    }
   ],
   "source": [
    "((wrap-account 'nyan 'deposit) 10)\n",
    "((wrap-account 'nyanko 'deposit) 10)\n",
    "((account 'nyan 'withdraw) 10)"
   ]
  },
  {
   "cell_type": "markdown",
   "metadata": {},
   "source": [
    "## Ex 3.8\n",
    "\n",
    "1.1.3 節で評価モデルを定義したときに、\n",
    "式を評価する最初のステップはその部分式を評価することだと述べた。 \n",
    "しかし、部分式を評価する順番 (例えば、左から右、または右から左)については規定しなかった。\n",
    "代⼊を導⼊すると、⼿続きの引数を評価する順番によって結果が変わるということが起こりえる。  \n",
    "単純な⼿続き f を定義して、次の式\n",
    "```\n",
    "(+ (f 0) (f 1))\n",
    "```\n",
    "を評価する際に、+ の引数の評価順が左から右であれば 0 を返し、右から左であれば 1 を返すようにせよ。"
   ]
  },
  {
   "cell_type": "markdown",
   "metadata": {},
   "source": [
    "ひたすら一個分評価を遅延して返す関数作った"
   ]
  },
  {
   "cell_type": "code",
   "execution_count": 25,
   "metadata": {
    "collapsed": false
   },
   "outputs": [
    {
     "name": "stdout",
     "output_type": "stream",
     "text": [
      " queue-1\r\n"
     ]
    }
   ],
   "source": [
    "(define (queue-1)\n",
    "  (define queue 0)\n",
    "  (lambda (x) \n",
    "    (let ((top queue))\n",
    "    (begin\n",
    "      (set! queue x)\n",
    "      top\n",
    "    )))\n",
    ")"
   ]
  },
  {
   "cell_type": "code",
   "execution_count": 26,
   "metadata": {
    "collapsed": false
   },
   "outputs": [
    {
     "name": "stdout",
     "output_type": "stream",
     "text": [
      " f\r\n",
      " 0\r\n"
     ]
    }
   ],
   "source": [
    "(define f (queue-1))\n",
    "(+ (f 0) (f 1))"
   ]
  },
  {
   "cell_type": "code",
   "execution_count": 27,
   "metadata": {
    "collapsed": false
   },
   "outputs": [
    {
     "name": "stdout",
     "output_type": "stream",
     "text": [
      " g\r\n",
      " 1\r\n"
     ]
    }
   ],
   "source": [
    "(define g (queue-1))\n",
    "(+ (g 1) (g 0))"
   ]
  }
 ],
 "metadata": {
  "kernelspec": {
   "display_name": "Gauche",
   "language": "gauche",
   "name": "gauche"
  },
  "language_info": {
   "codemirror_mode": "scheme",
   "file_extension": ".scm",
   "mimetype": "text/plain",
   "name": "gauche"
  }
 },
 "nbformat": 4,
 "nbformat_minor": 2
}
